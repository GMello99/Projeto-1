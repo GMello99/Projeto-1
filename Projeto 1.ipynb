{
 "cells": [
  {
   "cell_type": "markdown",
   "metadata": {},
   "source": [
    "# **Trabalho de Ciência dos Dados: Análise de países**\n",
    "*Guilherme de Mello Ferreira*"
   ]
  },
  {
   "cell_type": "markdown",
   "metadata": {},
   "source": [
    "**País desenvolvido é país sem pobreza?**\n",
    "\n",
    "\n",
    "Há o senso comum que um país desenvolvido é necessariamente rico. Pode-se dizer que esta afirmação está correta, porém em uma análise superficial. Uma simples pergunta já seria o bastante para quebrar a linha de racicínio desse pensamento inicial: *o que torna um país rico?* Algumas teorias já foram colocadas para tentar solver essa questão, como por exemplo, a campanha do Governo Federal Brasileiro durante os anos de mandato da ex-presidente Dilma Rousseff: *país rico é país sem pobreza.* que foi bastante contextada por parecer redundante. Porém, essa redundância existe de fato? Este trabalho propõe uma análise dessa situação, trazendo dados da desigualdade social presente em todo o mundo e mostrando se o IDH é de fato alterado por ela ou se as anomalias muito presentes na própria desigualdade são fundamentais para a elevação/queda do mesmo. Afinal, um país desenvolvido é um país sem pobreza? "
   ]
  },
  {
   "cell_type": "markdown",
   "metadata": {},
   "source": [
    "Para responder a essa pergunta, foram criados dois índices a partir dos dados existentes: o primeiro a ser considerado, leva em conta o PIB *per capta*, a razão de bilionários por 1 milhão e a porcentagem da população que vive com mnos de 1,25 USD por dia. O segundo, relaciona todos esses fatores com o índice de GINI, vendo a distribuição desse PIB contando suas desigualdades, de modo que: $S = \\frac {PIB}{GINI}$, e comparando-a com os outros fatores."
   ]
  },
  {
   "cell_type": "markdown",
   "metadata": {},
   "source": [
    "Para iniciar a programação, importam-se as bibliotecas que serão utilizadas no processo:"
   ]
  },
  {
   "cell_type": "code",
   "execution_count": 1,
   "metadata": {},
   "outputs": [],
   "source": [
    "%matplotlib inline\n",
    "import pandas as pd\n",
    "import numpy as np\n",
    "import math as math\n",
    "from scipy import stats\n",
    "import matplotlib.pyplot as plt\n",
    "\n"
   ]
  },
  {
   "cell_type": "markdown",
   "metadata": {},
   "source": [
    "A seguir, lê-se os arquivos inicialmente em Excel, com os dados retirados do Gapminder, em ordem: IDH, índice Gini, PIB *per capta*, número de bilionários por 1M habitantes e percentual de pobreza."
   ]
  },
  {
   "cell_type": "code",
   "execution_count": 2,
   "metadata": {},
   "outputs": [],
   "source": [
    "dadosidh = pd.read_excel ('IDH.xlsx')\n",
    "dadosgini = pd.read_excel ('gini.xlsx')\n",
    "dadospib = pd.read_excel ('per capta.xlsx')\n",
    "dadosbilionarios = pd.read_excel ('Bilionários.xlsx')\n",
    "dadospobreza = pd.read_excel ('pobreza.xlsx')"
   ]
  },
  {
   "cell_type": "markdown",
   "metadata": {},
   "source": [
    "Com isso, separa-se as colunas que representam o ano que será analisado, no caso, $2007$."
   ]
  },
  {
   "cell_type": "code",
   "execution_count": 3,
   "metadata": {},
   "outputs": [],
   "source": [
    "idh = dadosidh.loc[:,[\"HDI\",2007]]\n",
    "gini = dadosgini.loc [:,[2007]]\n",
    "pib = dadospib.loc[:,[2007]]\n",
    "bilionarios = dadosbilionarios.loc[:,[2007]]\n",
    "pobreza = dadospobreza.loc[:,[2007]]"
   ]
  },
  {
   "cell_type": "markdown",
   "metadata": {},
   "source": [
    "Em seguida, junta-se as três tabelas que comporão a primeira análise, que são: IDH, PIB *per capta* bilionários por milhão e pobreza"
   ]
  },
  {
   "cell_type": "code",
   "execution_count": 4,
   "metadata": {},
   "outputs": [],
   "source": [
    "tabela = idh.join(pib, how =\"inner\", rsuffix=' PIB', lsuffix=' IDH')\n",
    "tabela = tabela.join(bilionarios, how =\"inner\", rsuffix=' bi', lsuffix=' PIB')\n",
    "tabela = tabela.join(pobreza, how =\"inner\", rsuffix=' pobres', lsuffix=' bi')"
   ]
  },
  {
   "cell_type": "markdown",
   "metadata": {},
   "source": [
    "E retira-se os países que contém campos em branco, deixando a tabela mais limpa."
   ]
  },
  {
   "cell_type": "code",
   "execution_count": 5,
   "metadata": {},
   "outputs": [],
   "source": [
    "tabela.dropna()\n",
    "tabela.columns = tabela.columns = ['País', 'IDH', 'PIB', 'Bilionários', 'Pobres']"
   ]
  },
  {
   "cell_type": "markdown",
   "metadata": {},
   "source": [
    "As primeiras análises sairão dessa tabela, sem considerar o índice Gini. A seguir, insere-se na tabela tal índice, para fazer uma segunda análise."
   ]
  },
  {
   "cell_type": "code",
   "execution_count": 6,
   "metadata": {},
   "outputs": [
    {
     "data": {
      "text/plain": [
       "Text(0.5,1,'Relação IDH x Pib per capta')"
      ]
     },
     "execution_count": 6,
     "metadata": {},
     "output_type": "execute_result"
    },
    {
     "data": {
      "image/png": "[encoded data removed]",
      "text/plain": [
       "<matplotlib.figure.Figure at 0x202b1e89e80>"
      ]
     },
     "metadata": {},
     "output_type": "display_data"
    }
   ],
   "source": [
    "tabela.plot.scatter(x = \"IDH\", y = \"PIB\", loglog = True, color ='blue')\n",
    "plt.title ('Relação IDH x Pib per capta')"
   ]
  },
  {
   "cell_type": "markdown",
   "metadata": {},
   "source": [
    "Como podemos facilmente observar, existe uma clara correlação entre IDH e Pib *per capta* entre os países analisados."
   ]
  },
  {
   "cell_type": "code",
   "execution_count": 7,
   "metadata": {},
   "outputs": [
    {
     "data": {
      "text/plain": [
       "count    258.000000\n",
       "mean       0.249724\n",
       "std        1.972028\n",
       "min        0.000000\n",
       "25%        0.000000\n",
       "50%        0.000000\n",
       "75%        0.000000\n",
       "max       30.608185\n",
       "Name: Bilionários, dtype: float64"
      ]
     },
     "execution_count": 7,
     "metadata": {},
     "output_type": "execute_result"
    },
    {
     "data": {
      "image/png": "[encoded data removed]",
      "text/plain": [
       "<matplotlib.figure.Figure at 0x202b2fa7048>"
      ]
     },
     "metadata": {},
     "output_type": "display_data"
    }
   ],
   "source": [
    "tabela.Bilionários.plot.box()\n",
    "tabela.Bilionários.describe()"
   ]
  },
  {
   "cell_type": "markdown",
   "metadata": {},
   "source": [
    "Podemos observar que a tabela de bilionários é repleta de anomalias, Uma vez que a maioria dos países não possui nenhuma pessoa nessa condição. As duas principais anomalias se tratam de Mônaco (com aproximadamente 30,6 bilionários por milhão de habitantes), pois o principado é conhecido por atrair grande fluxo de pessoas com muito dinheiro, devido aos seus casinos e aos setores imobiliário, que é muito forte em venda de imóveis de luxo, com muitas construtoras, e financeiro, uma vez que o país pe um paraíso fiscal, atraíndo grandes investidores; e Islândia, um país de cunho liberal, o que proporcionou um grande investimento externo no país, gerando um grande fluxo de dinheiro e enriquecimento rápido de um número relativamente grande de pessoas, considerando a população total do país (pouco mais de 300 000 habitantes)."
   ]
  },
  {
   "cell_type": "markdown",
   "metadata": {},
   "source": [
    "Pelo _describe_ também podemos fazer uma primeira conclusão, bastante óbvia: mais de 75% dos países não possuem um bilionário sequer, chegando à uma primeira pergunta prévia: _Os países que possuem bilionários são, de fato, os mais desenvolvidos?_ Para respondê-la, fazer-se-á um isolamento dos países que possuem bilionários, excluíndo a maior anomalia: Mônaco. A Islândia não será retirada, pois sua população é considerável"
   ]
  },
  {
   "cell_type": "code",
   "execution_count": 19,
   "metadata": {},
   "outputs": [],
   "source": [
    "a = tabela[tabela.Bilionários>0]"
   ]
  },
  {
   "cell_type": "code",
   "execution_count": 20,
   "metadata": {},
   "outputs": [
    {
     "data": {
      "text/html": [
       "<div>\n",
       "<style scoped>\n",
       "    .dataframe tbody tr th:only-of-type {\n",
       "        vertical-align: middle;\n",
       "    }\n",
       "\n",
       "    .dataframe tbody tr th {\n",
       "        vertical-align: top;\n",
       "    }\n",
       "\n",
       "    .dataframe thead th {\n",
       "        text-align: right;\n",
       "    }\n",
       "</style>\n",
       "<table border=\"1\" class=\"dataframe\">\n",
       "  <thead>\n",
       "    <tr style=\"text-align: right;\">\n",
       "      <th>BilionáriosBar</th>\n",
       "      <th>(-0.0217, 30.608]</th>\n",
       "    </tr>\n",
       "    <tr>\n",
       "      <th>IDHBAR</th>\n",
       "      <th></th>\n",
       "    </tr>\n",
       "  </thead>\n",
       "  <tbody>\n",
       "    <tr>\n",
       "      <th>(0.27, 0.338]</th>\n",
       "      <td>0</td>\n",
       "    </tr>\n",
       "    <tr>\n",
       "      <th>(0.338, 0.405]</th>\n",
       "      <td>0</td>\n",
       "    </tr>\n",
       "    <tr>\n",
       "      <th>(0.405, 0.472]</th>\n",
       "      <td>0</td>\n",
       "    </tr>\n",
       "    <tr>\n",
       "      <th>(0.472, 0.539]</th>\n",
       "      <td>1</td>\n",
       "    </tr>\n",
       "    <tr>\n",
       "      <th>(0.539, 0.606]</th>\n",
       "      <td>2</td>\n",
       "    </tr>\n",
       "    <tr>\n",
       "      <th>(0.606, 0.674]</th>\n",
       "      <td>4</td>\n",
       "    </tr>\n",
       "    <tr>\n",
       "      <th>(0.674, 0.741]</th>\n",
       "      <td>8</td>\n",
       "    </tr>\n",
       "    <tr>\n",
       "      <th>(0.741, 0.808]</th>\n",
       "      <td>11</td>\n",
       "    </tr>\n",
       "    <tr>\n",
       "      <th>(0.808, 0.875]</th>\n",
       "      <td>9</td>\n",
       "    </tr>\n",
       "    <tr>\n",
       "      <th>(0.875, 0.942]</th>\n",
       "      <td>16</td>\n",
       "    </tr>\n",
       "  </tbody>\n",
       "</table>\n",
       "</div>"
      ],
      "text/plain": [
       "BilionáriosBar  (-0.0217, 30.608]\n",
       "IDHBAR                           \n",
       "(0.27, 0.338]                   0\n",
       "(0.338, 0.405]                  0\n",
       "(0.405, 0.472]                  0\n",
       "(0.472, 0.539]                  1\n",
       "(0.539, 0.606]                  2\n",
       "(0.606, 0.674]                  4\n",
       "(0.674, 0.741]                  8\n",
       "(0.741, 0.808]                 11\n",
       "(0.808, 0.875]                  9\n",
       "(0.875, 0.942]                 16"
      ]
     },
     "execution_count": 20,
     "metadata": {},
     "output_type": "execute_result"
    }
   ],
   "source": [
    "tabela[\"IDHBAR\"] = pd.cut(tabela['IDH'], bins=10)\n",
    "tabela['BilionáriosBar'] = pd.cut (a['Bilionários'], bins = 1)\n",
    "cruzada = pd.crosstab(tabela[\"IDHBAR\"], tabela[\"BilionáriosBar\"])\n",
    "cruzada"
   ]
  },
  {
   "cell_type": "code",
   "execution_count": 10,
   "metadata": {},
   "outputs": [
    {
     "data": {
      "text/plain": [
       "<matplotlib.axes._subplots.AxesSubplot at 0x202b2fcbdd8>"
      ]
     },
     "execution_count": 10,
     "metadata": {},
     "output_type": "execute_result"
    },
    {
     "data": {
      "image/png": "[encoded data removed]",
      "text/plain": [
       "<matplotlib.figure.Figure at 0x202b2fa76d8>"
      ]
     },
     "metadata": {},
     "output_type": "display_data"
    }
   ],
   "source": [
    "cruzada.plot.bar()"
   ]
  },
  {
   "cell_type": "markdown",
   "metadata": {},
   "source": [
    "Pela análise da tabela e do gráfico, parece razoável supor que quanto mais desenvolvido um país é, maior a propensão a este possuir pelo menos um bilionário. Porém esses dados ainda não podem levar à uma conclusão parcial, pois não sabemos a quantidade de países que se encontram em cada uma das faixas. Por isso, analisar-se-á o percentual."
   ]
  },
  {
   "cell_type": "code",
   "execution_count": 11,
   "metadata": {},
   "outputs": [
    {
     "data": {
      "text/plain": [
       "<bound method NDFrame.describe of (0.27, 0.338]     12\n",
       "(0.338, 0.405]     9\n",
       "(0.405, 0.472]    17\n",
       "(0.472, 0.539]    14\n",
       "(0.539, 0.606]    10\n",
       "(0.606, 0.674]    22\n",
       "(0.674, 0.741]    28\n",
       "(0.741, 0.808]    26\n",
       "(0.808, 0.875]    18\n",
       "(0.875, 0.942]    18\n",
       "Name: IDHBAR, dtype: int64>"
      ]
     },
     "execution_count": 11,
     "metadata": {},
     "output_type": "execute_result"
    }
   ],
   "source": [
    "tabela[\"IDHBAR\"] = pd.cut(tabela[\"IDH\"], bins=10)\n",
    "faixas =  tabela[\"IDHBAR\"].value_counts(sort=False)\n",
    "faixas.describe"
   ]
  },
  {
   "cell_type": "markdown",
   "metadata": {},
   "source": [
    "Faze-se o mesmo para o percentual de pobres."
   ]
  },
  {
   "cell_type": "code",
   "execution_count": 14,
   "metadata": {},
   "outputs": [
    {
     "data": {
      "text/plain": [
       "count    55.000000\n",
       "mean      1.467721\n",
       "std       4.091085\n",
       "min       0.000000\n",
       "25%       0.017800\n",
       "50%       0.128000\n",
       "75%       1.060000\n",
       "max      27.900000\n",
       "Name: Pobres, dtype: float64"
      ]
     },
     "execution_count": 14,
     "metadata": {},
     "output_type": "execute_result"
    },
    {
     "data": {
      "image/png": "[encoded data removed]",
      "text/plain": [
       "<matplotlib.figure.Figure at 0x202b35d3470>"
      ]
     },
     "metadata": {},
     "output_type": "display_data"
    }
   ],
   "source": [
    "tabela.Pobres.plot.box()\n",
    "tabela.Pobres.describe()"
   ]
  },
  {
   "cell_type": "markdown",
   "metadata": {},
   "source": [
    "Novamente vemos daus anomalias bastante claras: Tanzânia (com aproximadamente 27,9% da população recebendo menos de $1,25 por dia) e Brasil"
   ]
  },
  {
   "cell_type": "code",
   "execution_count": null,
   "metadata": {},
   "outputs": [],
   "source": []
  },
  {
   "cell_type": "code",
   "execution_count": 12,
   "metadata": {},
   "outputs": [],
   "source": [
    "#Boxplot pobreza e bilionários para cada faixa de IDH."
   ]
  },
  {
   "cell_type": "code",
   "execution_count": 13,
   "metadata": {},
   "outputs": [
    {
     "ename": "ValueError",
     "evalue": "labels ['IDHBAR'] not contained in axis",
     "output_type": "error",
     "traceback": [
      "\u001b[1;31m---------------------------------------------------------------------------\u001b[0m",
      "\u001b[1;31mValueError\u001b[0m                                Traceback (most recent call last)",
      "\u001b[1;32m<ipython-input-13-9af7bf313ce3>\u001b[0m in \u001b[0;36m<module>\u001b[1;34m()\u001b[0m\n\u001b[0;32m      1\u001b[0m \u001b[0mtabela\u001b[0m \u001b[1;33m=\u001b[0m \u001b[0mtabela\u001b[0m\u001b[1;33m.\u001b[0m\u001b[0mjoin\u001b[0m\u001b[1;33m(\u001b[0m\u001b[0mgini\u001b[0m\u001b[1;33m,\u001b[0m \u001b[0mhow\u001b[0m \u001b[1;33m=\u001b[0m\u001b[1;34m\"inner\"\u001b[0m\u001b[1;33m,\u001b[0m \u001b[0mrsuffix\u001b[0m\u001b[1;33m=\u001b[0m\u001b[1;34m'2007 gini'\u001b[0m\u001b[1;33m)\u001b[0m\u001b[1;33m\u001b[0m\u001b[0m\n\u001b[0;32m      2\u001b[0m \u001b[0mtabela\u001b[0m\u001b[1;33m.\u001b[0m\u001b[0mdropna\u001b[0m\u001b[1;33m(\u001b[0m\u001b[1;33m)\u001b[0m\u001b[1;33m\u001b[0m\u001b[0m\n\u001b[1;32m----> 3\u001b[1;33m \u001b[0mtabela\u001b[0m\u001b[1;33m.\u001b[0m\u001b[0mdrop\u001b[0m\u001b[1;33m(\u001b[0m\u001b[1;34m'IDHBAR'\u001b[0m\u001b[1;33m)\u001b[0m\u001b[1;33m\u001b[0m\u001b[0m\n\u001b[0m",
      "\u001b[1;32m~\\AppData\\Local\\Continuum\\anaconda\\lib\\site-packages\\pandas\\core\\generic.py\u001b[0m in \u001b[0;36mdrop\u001b[1;34m(self, labels, axis, index, columns, level, inplace, errors)\u001b[0m\n\u001b[0;32m   2528\u001b[0m         \u001b[1;32mfor\u001b[0m \u001b[0maxis\u001b[0m\u001b[1;33m,\u001b[0m \u001b[0mlabels\u001b[0m \u001b[1;32min\u001b[0m \u001b[0maxes\u001b[0m\u001b[1;33m.\u001b[0m\u001b[0mitems\u001b[0m\u001b[1;33m(\u001b[0m\u001b[1;33m)\u001b[0m\u001b[1;33m:\u001b[0m\u001b[1;33m\u001b[0m\u001b[0m\n\u001b[0;32m   2529\u001b[0m             \u001b[1;32mif\u001b[0m \u001b[0mlabels\u001b[0m \u001b[1;32mis\u001b[0m \u001b[1;32mnot\u001b[0m \u001b[1;32mNone\u001b[0m\u001b[1;33m:\u001b[0m\u001b[1;33m\u001b[0m\u001b[0m\n\u001b[1;32m-> 2530\u001b[1;33m                 \u001b[0mobj\u001b[0m \u001b[1;33m=\u001b[0m \u001b[0mobj\u001b[0m\u001b[1;33m.\u001b[0m\u001b[0m_drop_axis\u001b[0m\u001b[1;33m(\u001b[0m\u001b[0mlabels\u001b[0m\u001b[1;33m,\u001b[0m \u001b[0maxis\u001b[0m\u001b[1;33m,\u001b[0m \u001b[0mlevel\u001b[0m\u001b[1;33m=\u001b[0m\u001b[0mlevel\u001b[0m\u001b[1;33m,\u001b[0m \u001b[0merrors\u001b[0m\u001b[1;33m=\u001b[0m\u001b[0merrors\u001b[0m\u001b[1;33m)\u001b[0m\u001b[1;33m\u001b[0m\u001b[0m\n\u001b[0m\u001b[0;32m   2531\u001b[0m \u001b[1;33m\u001b[0m\u001b[0m\n\u001b[0;32m   2532\u001b[0m         \u001b[1;32mif\u001b[0m \u001b[0minplace\u001b[0m\u001b[1;33m:\u001b[0m\u001b[1;33m\u001b[0m\u001b[0m\n",
      "\u001b[1;32m~\\AppData\\Local\\Continuum\\anaconda\\lib\\site-packages\\pandas\\core\\generic.py\u001b[0m in \u001b[0;36m_drop_axis\u001b[1;34m(self, labels, axis, level, errors)\u001b[0m\n\u001b[0;32m   2560\u001b[0m                 \u001b[0mnew_axis\u001b[0m \u001b[1;33m=\u001b[0m \u001b[0maxis\u001b[0m\u001b[1;33m.\u001b[0m\u001b[0mdrop\u001b[0m\u001b[1;33m(\u001b[0m\u001b[0mlabels\u001b[0m\u001b[1;33m,\u001b[0m \u001b[0mlevel\u001b[0m\u001b[1;33m=\u001b[0m\u001b[0mlevel\u001b[0m\u001b[1;33m,\u001b[0m \u001b[0merrors\u001b[0m\u001b[1;33m=\u001b[0m\u001b[0merrors\u001b[0m\u001b[1;33m)\u001b[0m\u001b[1;33m\u001b[0m\u001b[0m\n\u001b[0;32m   2561\u001b[0m             \u001b[1;32melse\u001b[0m\u001b[1;33m:\u001b[0m\u001b[1;33m\u001b[0m\u001b[0m\n\u001b[1;32m-> 2562\u001b[1;33m                 \u001b[0mnew_axis\u001b[0m \u001b[1;33m=\u001b[0m \u001b[0maxis\u001b[0m\u001b[1;33m.\u001b[0m\u001b[0mdrop\u001b[0m\u001b[1;33m(\u001b[0m\u001b[0mlabels\u001b[0m\u001b[1;33m,\u001b[0m \u001b[0merrors\u001b[0m\u001b[1;33m=\u001b[0m\u001b[0merrors\u001b[0m\u001b[1;33m)\u001b[0m\u001b[1;33m\u001b[0m\u001b[0m\n\u001b[0m\u001b[0;32m   2563\u001b[0m             \u001b[0mdropped\u001b[0m \u001b[1;33m=\u001b[0m \u001b[0mself\u001b[0m\u001b[1;33m.\u001b[0m\u001b[0mreindex\u001b[0m\u001b[1;33m(\u001b[0m\u001b[1;33m**\u001b[0m\u001b[1;33m{\u001b[0m\u001b[0maxis_name\u001b[0m\u001b[1;33m:\u001b[0m \u001b[0mnew_axis\u001b[0m\u001b[1;33m}\u001b[0m\u001b[1;33m)\u001b[0m\u001b[1;33m\u001b[0m\u001b[0m\n\u001b[0;32m   2564\u001b[0m             \u001b[1;32mtry\u001b[0m\u001b[1;33m:\u001b[0m\u001b[1;33m\u001b[0m\u001b[0m\n",
      "\u001b[1;32m~\\AppData\\Local\\Continuum\\anaconda\\lib\\site-packages\\pandas\\core\\indexes\\base.py\u001b[0m in \u001b[0;36mdrop\u001b[1;34m(self, labels, errors)\u001b[0m\n\u001b[0;32m   3742\u001b[0m             \u001b[1;32mif\u001b[0m \u001b[0merrors\u001b[0m \u001b[1;33m!=\u001b[0m \u001b[1;34m'ignore'\u001b[0m\u001b[1;33m:\u001b[0m\u001b[1;33m\u001b[0m\u001b[0m\n\u001b[0;32m   3743\u001b[0m                 raise ValueError('labels %s not contained in axis' %\n\u001b[1;32m-> 3744\u001b[1;33m                                  labels[mask])\n\u001b[0m\u001b[0;32m   3745\u001b[0m             \u001b[0mindexer\u001b[0m \u001b[1;33m=\u001b[0m \u001b[0mindexer\u001b[0m\u001b[1;33m[\u001b[0m\u001b[1;33m~\u001b[0m\u001b[0mmask\u001b[0m\u001b[1;33m]\u001b[0m\u001b[1;33m\u001b[0m\u001b[0m\n\u001b[0;32m   3746\u001b[0m         \u001b[1;32mreturn\u001b[0m \u001b[0mself\u001b[0m\u001b[1;33m.\u001b[0m\u001b[0mdelete\u001b[0m\u001b[1;33m(\u001b[0m\u001b[0mindexer\u001b[0m\u001b[1;33m)\u001b[0m\u001b[1;33m\u001b[0m\u001b[0m\n",
      "\u001b[1;31mValueError\u001b[0m: labels ['IDHBAR'] not contained in axis"
     ]
    }
   ],
   "source": [
    "tabela = tabela.join(gini, how =\"inner\", rsuffix='2007 gini')\n",
    "tabela.dropna()\n",
    "tabela.drop('IDHBAR')"
   ]
  },
  {
   "cell_type": "code",
   "execution_count": null,
   "metadata": {},
   "outputs": [],
   "source": []
  },
  {
   "cell_type": "code",
   "execution_count": null,
   "metadata": {},
   "outputs": [],
   "source": [
    "tabela.columns = ['País', 'IDH', 'PIB', 'Bilionários', 'Pobres', 'Gini']"
   ]
  },
  {
   "cell_type": "code",
   "execution_count": null,
   "metadata": {},
   "outputs": [],
   "source": [
    "tabela.fillna(0)"
   ]
  },
  {
   "cell_type": "code",
   "execution_count": null,
   "metadata": {},
   "outputs": [],
   "source": []
  },
  {
   "cell_type": "code",
   "execution_count": null,
   "metadata": {},
   "outputs": [],
   "source": [
    "tabela.plot.scatter(x = \"IDH\", y = \"Gini\", loglog = True, color = 'b')\n",
    "plt.title ('Relação IDH x índice Gini')"
   ]
  },
  {
   "cell_type": "code",
   "execution_count": null,
   "metadata": {},
   "outputs": [],
   "source": [
    "tabela.plot.scatter(x = \"PIB\", y = \"Gini\", loglog = True, color = 'b')\n",
    "plt.title ('Relação IDH x índice Gini')"
   ]
  },
  {
   "cell_type": "code",
   "execution_count": null,
   "metadata": {},
   "outputs": [],
   "source": [
    "S = tabela.PIB/tabela.Gini.dropna()\n",
    "tabela ['S'] = S\n",
    "tabela"
   ]
  },
  {
   "cell_type": "code",
   "execution_count": null,
   "metadata": {},
   "outputs": [],
   "source": [
    "tabela.plot.scatter(x = \"IDH\", y = \"S\", loglog = True, color = 'c')\n",
    "plt.title ('Relação IDH x índice S')"
   ]
  },
  {
   "cell_type": "code",
   "execution_count": null,
   "metadata": {},
   "outputs": [],
   "source": [
    "#assim, concluímos que um país desenvolvido é de fato país sem pobreza, porém, o mesmo não se diz sobre a desigualdade"
   ]
  }
 ],
 "metadata": {
  "kernelspec": {
   "display_name": "Python 3",
   "language": "python",
   "name": "python3"
  },
  "language_info": {
   "codemirror_mode": {
    "name": "ipython",
    "version": 3
   },
   "file_extension": ".py",
   "mimetype": "text/x-python",
   "name": "python",
   "nbconvert_exporter": "python",
   "pygments_lexer": "ipython3",
   "version": "3.6.4"
  }
 },
 "nbformat": 4,
 "nbformat_minor": 2
}
