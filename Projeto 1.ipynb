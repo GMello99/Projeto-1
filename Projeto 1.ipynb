{
 "cells": [
  {
   "cell_type": "markdown",
   "metadata": {},
   "source": [
    "# **Trabalho de Ciência dos Dados: Análise de países**\n",
    "*Guilherme de Mello Ferreira*"
   ]
  },
  {
   "cell_type": "markdown",
   "metadata": {},
   "source": [
    "**País desevolvido é país sem pobreza?**\n",
    "\n",
    "\n",
    "Há o senso comum que um país desenvolvido é necessariamente rico. Pode-se dizer que esta afirmação está correta, porém em uma análise superficial. Uma simples pergunta já seria o bastante para quebrar a linha de racicínio desse pensamento inicial: *o que torna um país rico?* Algumas teorias já foram colocadas para tentar solver essa questão, como por exemplo, a campanha do Governo Federal Brasileiro durante os anos de mandato da ex-presidente Dilma Rousseff: \"*país rico é país sem pobreza.*\" que foi bastante contextada por parecer redundante. Porém, essa redundância existe de fato? Este trabalho propõe uma análise dessa situação, trazendo dados da desigualdade social presente em todo o mundo e mostrando se o IDH é de fato alterado por ela ou se as anomalias muito presentes na própria desigualdade são fundamentais para a elevação/queda do mesmo. Afinal, um país desenvolvido é um país sem pobreza? "
   ]
  },
  {
   "cell_type": "markdown",
   "metadata": {},
   "source": [
    "Para responder a essa pergunta, foram criados dois índices a partir dos dados existentes: o primeiro a ser considerado, leva em conta o PIB *per capta*, a razão de bilionários por 1 milhão e a porcentagem da população que vive com menos de 1,25 USD por dia. O segundo, relaciona todos esses fatores com o índice de GINI, vendo a distribuição desse PIB contando suas desigualdades, de modo que: $S = \\frac {PIB}{GINI}$, e comparando-a com os outros fatores."
   ]
  },
  {
   "cell_type": "markdown",
   "metadata": {},
   "source": [
    "Para iniciar a programação, importam-se as bibliotecas que serão utilizadas no processo:"
   ]
  },
  {
   "cell_type": "code",
   "execution_count": 1,
   "metadata": {},
   "outputs": [],
   "source": [
    "%matplotlib inline\n",
    "import pandas as pd\n",
    "import numpy as np\n",
    "import math as math\n",
    "from scipy import stats\n",
    "import matplotlib.pyplot as plt"
   ]
  },
  {
   "cell_type": "markdown",
   "metadata": {},
   "source": [
    "A seguir, lê-se os arquivos inicialmente em Excel, com os dados retirados do Gapminder, em ordem: IDH, índice Gini, PIB *per capta*, número de bilionários por 1M habitantes e percentual de pobreza."
   ]
  },
  {
   "cell_type": "code",
   "execution_count": 2,
   "metadata": {},
   "outputs": [],
   "source": [
    "dadosidh = pd.read_excel ('IDH.xlsx')\n",
    "dadosgini = pd.read_excel ('gini.xlsx')\n",
    "dadospib = pd.read_excel ('per capta.xlsx')\n",
    "dadosbilionarios = pd.read_excel ('Bilionários.xlsx')\n",
    "dadospobreza = pd.read_excel ('pobreza.xlsx')"
   ]
  },
  {
   "cell_type": "markdown",
   "metadata": {},
   "source": [
    "Com isso, separa-se as colunas que representam o ano que será analisado, no caso, $2007$."
   ]
  },
  {
   "cell_type": "code",
   "execution_count": 3,
   "metadata": {},
   "outputs": [],
   "source": [
    "idh = dadosidh.loc[:,[\"HDI\",2007]]\n",
    "gini = dadosgini.loc [:,[2007]]\n",
    "pib = dadospib.loc[:,[2007]]\n",
    "bilionarios = dadosbilionarios.loc[:,[2007]]\n",
    "pobreza = dadospobreza.loc[:,[2007]]"
   ]
  },
  {
   "cell_type": "markdown",
   "metadata": {},
   "source": [
    "Em seguida, junta-se as três tabelas que comporão a primeira análise, que são: IDH, PIB *per capta* bilionários por milhão e pobreza"
   ]
  },
  {
   "cell_type": "code",
   "execution_count": 4,
   "metadata": {},
   "outputs": [],
   "source": [
    "tabela = idh.join(pib, how =\"inner\", rsuffix=' PIB', lsuffix=' IDH')\n",
    "tabela = tabela.join(bilionarios, how =\"inner\", rsuffix=' bi', lsuffix=' PIB')\n",
    "tabela = tabela.join(pobreza, how =\"inner\", rsuffix=' pobres', lsuffix=' bi')"
   ]
  },
  {
   "cell_type": "markdown",
   "metadata": {},
   "source": [
    "E retira-se os países que contém campos em branco, deixando a tabela mais limpa."
   ]
  },
  {
   "cell_type": "code",
   "execution_count": 5,
   "metadata": {},
   "outputs": [],
   "source": [
    "tabela.dropna()\n",
    "tabela.columns = tabela.columns = ['País', 'IDH', 'PIB', 'Bilionários', 'Pobres']"
   ]
  },
  {
   "cell_type": "markdown",
   "metadata": {},
   "source": [
    "As primeiras análises sairão dessa tabela, sem considerar o índice Gini. A seguir, insere-se na tabela tal índice, para fazer uma segunda análise."
   ]
  },
  {
   "cell_type": "code",
   "execution_count": 6,
   "metadata": {},
   "outputs": [
    {
     "data": {
      "text/plain": [
       "Text(0.5,1,'Relação IDH x Pib per capta')"
      ]
     },
     "execution_count": 6,
     "metadata": {},
     "output_type": "execute_result"
    },
    {
     "data": {
      "image/png": "[encoded data removed]",
      "text/plain": [
       "<matplotlib.figure.Figure at 0x2bb691e3240>"
      ]
     },
     "metadata": {},
     "output_type": "display_data"
    }
   ],
   "source": [
    "tabela.plot.scatter(x = \"IDH\", y = \"PIB\", color ='blue')\n",
    "plt.title ('Relação IDH x Pib per capta')"
   ]
  },
  {
   "cell_type": "markdown",
   "metadata": {},
   "source": [
    "Como podemos facilmente observar, existe uma clara correlação entre IDH e Pib *per capta* entre os países analisados, de forma aparentemente quase exponencial. Isso se dá pelo fato de que a renda é um dos fatores principais para o cálculo do IDH."
   ]
  },
  {
   "cell_type": "markdown",
   "metadata": {},
   "source": [
    "Agora vamos analisar o perfil dos dados relacionados à quantidade de bilionários por 1 milhão de pessoas: primeiramente, vê-se se existem anomalias muito grandes, e o motivo dessas anomalias, como um processo histórico que levou um país a ter mais bilionários por milhão. Para isso, plotar-se-á um Boxplot, que comparado com os dados mostrados pela função *describe* mostram se tais desigualdades existem."
   ]
  },
  {
   "cell_type": "code",
   "execution_count": 7,
   "metadata": {},
   "outputs": [
    {
     "data": {
      "text/plain": [
       "count    258.000000\n",
       "mean       0.249724\n",
       "std        1.972028\n",
       "min        0.000000\n",
       "25%        0.000000\n",
       "50%        0.000000\n",
       "75%        0.000000\n",
       "max       30.608185\n",
       "Name: Bilionários, dtype: float64"
      ]
     },
     "execution_count": 7,
     "metadata": {},
     "output_type": "execute_result"
    },
    {
     "data": {
      "image/png": "[encoded data removed]",
      "text/plain": [
       "<matplotlib.figure.Figure at 0x2bb69020d68>"
      ]
     },
     "metadata": {},
     "output_type": "display_data"
    }
   ],
   "source": [
    "tabela.Bilionários.plot.box()\n",
    "tabela.Bilionários.describe()"
   ]
  },
  {
   "cell_type": "markdown",
   "metadata": {},
   "source": [
    "Podemos observar que a tabela de bilionários é repleta de anomalias, Uma vez que a maioria dos países não possui nenhuma pessoa nessa condição. As duas principais anomalias se tratam de Mônaco (com aproximadamente 30,6 bilionários por milhão de habitantes), pois o principado é conhecido por atrair grande fluxo de pessoas com muito dinheiro, devido aos seus casinos e aos setores imobiliário, que é muito forte em venda de imóveis de luxo, com muitas construtoras, e financeiro, uma vez que o país pe um paraíso fiscal, atraíndo grandes investidores; e Islândia, um país de cunho liberal, o que proporcionou um grande investimento externo no país, gerando um grande fluxo de dinheiro e enriquecimento rápido de um número relativamente grande de pessoas, considerando a população total do país (pouco mais de 300 000 habitantes)."
   ]
  },
  {
   "cell_type": "markdown",
   "metadata": {},
   "source": [
    "Pelo _describe_ também podemos fazer uma primeira conclusão, bastante óbvia: mais de 75% dos países não possuem um bilionário sequer, chegando à uma primeira pergunta prévia: _Os países que possuem bilionários são, de fato, os mais desenvolvidos?_ Para respondê-la, fazer-se-á um isolamento dos países que possuem bilionários, excluíndo a maior anomalia: Mônaco. A Islândia não será retirada, pois sua população é considerável. "
   ]
  },
  {
   "cell_type": "markdown",
   "metadata": {},
   "source": [
    "Agora, vamos analisar os países que possuem bilionários. Primeiramente, retiramos todos aqueles que não possuem da tabela:"
   ]
  },
  {
   "cell_type": "code",
   "execution_count": 8,
   "metadata": {},
   "outputs": [],
   "source": [
    "a = tabela[tabela.Bilionários>0]"
   ]
  },
  {
   "cell_type": "markdown",
   "metadata": {},
   "source": [
    "A seguir, faz-se uma tabela cruzada com os dados, primeiramente dividindo o IDH em 10 faixas. Como o número de Bilionários por milhão é geralmente pequeno, e o objetivo é apenas ver a quantidade de países com bilionários para cada faixa de IDH, será criada apenas uma faixa de Bilionários, ou seja, uma informação booleana: Tem ou não tem."
   ]
  },
  {
   "cell_type": "code",
   "execution_count": 9,
   "metadata": {},
   "outputs": [
    {
     "data": {
      "text/html": [
       "<div>\n",
       "<style scoped>\n",
       "    .dataframe tbody tr th:only-of-type {\n",
       "        vertical-align: middle;\n",
       "    }\n",
       "\n",
       "    .dataframe tbody tr th {\n",
       "        vertical-align: top;\n",
       "    }\n",
       "\n",
       "    .dataframe thead th {\n",
       "        text-align: right;\n",
       "    }\n",
       "</style>\n",
       "<table border=\"1\" class=\"dataframe\">\n",
       "  <thead>\n",
       "    <tr style=\"text-align: right;\">\n",
       "      <th>BilionáriosBar</th>\n",
       "      <th>(-0.0217, 30.608]</th>\n",
       "    </tr>\n",
       "    <tr>\n",
       "      <th>IDHBAR</th>\n",
       "      <th></th>\n",
       "    </tr>\n",
       "  </thead>\n",
       "  <tbody>\n",
       "    <tr>\n",
       "      <th>(0.27, 0.338]</th>\n",
       "      <td>0</td>\n",
       "    </tr>\n",
       "    <tr>\n",
       "      <th>(0.338, 0.405]</th>\n",
       "      <td>0</td>\n",
       "    </tr>\n",
       "    <tr>\n",
       "      <th>(0.405, 0.472]</th>\n",
       "      <td>0</td>\n",
       "    </tr>\n",
       "    <tr>\n",
       "      <th>(0.472, 0.539]</th>\n",
       "      <td>1</td>\n",
       "    </tr>\n",
       "    <tr>\n",
       "      <th>(0.539, 0.606]</th>\n",
       "      <td>2</td>\n",
       "    </tr>\n",
       "    <tr>\n",
       "      <th>(0.606, 0.674]</th>\n",
       "      <td>4</td>\n",
       "    </tr>\n",
       "    <tr>\n",
       "      <th>(0.674, 0.741]</th>\n",
       "      <td>8</td>\n",
       "    </tr>\n",
       "    <tr>\n",
       "      <th>(0.741, 0.808]</th>\n",
       "      <td>11</td>\n",
       "    </tr>\n",
       "    <tr>\n",
       "      <th>(0.808, 0.875]</th>\n",
       "      <td>9</td>\n",
       "    </tr>\n",
       "    <tr>\n",
       "      <th>(0.875, 0.942]</th>\n",
       "      <td>16</td>\n",
       "    </tr>\n",
       "  </tbody>\n",
       "</table>\n",
       "</div>"
      ],
      "text/plain": [
       "BilionáriosBar  (-0.0217, 30.608]\n",
       "IDHBAR                           \n",
       "(0.27, 0.338]                   0\n",
       "(0.338, 0.405]                  0\n",
       "(0.405, 0.472]                  0\n",
       "(0.472, 0.539]                  1\n",
       "(0.539, 0.606]                  2\n",
       "(0.606, 0.674]                  4\n",
       "(0.674, 0.741]                  8\n",
       "(0.741, 0.808]                 11\n",
       "(0.808, 0.875]                  9\n",
       "(0.875, 0.942]                 16"
      ]
     },
     "execution_count": 9,
     "metadata": {},
     "output_type": "execute_result"
    }
   ],
   "source": [
    "tabela[\"IDHBAR\"] = pd.cut(tabela['IDH'], bins=10)\n",
    "tabela['BilionáriosBar'] = pd.cut (a['Bilionários'], bins = 1)\n",
    "cruzada = pd.crosstab(tabela[\"IDHBAR\"], tabela[\"BilionáriosBar\"])\n",
    "cruzada"
   ]
  },
  {
   "cell_type": "markdown",
   "metadata": {},
   "source": [
    "A seguir, plotemos um gráfico com os dados dessa tabela:"
   ]
  },
  {
   "cell_type": "code",
   "execution_count": 10,
   "metadata": {},
   "outputs": [
    {
     "data": {
      "text/plain": [
       "Text(0.5,1,'Países com bilionários')"
      ]
     },
     "execution_count": 10,
     "metadata": {},
     "output_type": "execute_result"
    },
    {
     "data": {
      "image/png": "[encoded data removed]",
      "text/plain": [
       "<matplotlib.figure.Figure at 0x2bb6a3d5cf8>"
      ]
     },
     "metadata": {},
     "output_type": "display_data"
    }
   ],
   "source": [
    "cruzada.plot.bar(color='b', legend = 'Países com Bilionários')\n",
    "plt.title('Países com bilionários')"
   ]
  },
  {
   "cell_type": "markdown",
   "metadata": {},
   "source": [
    "Pela análise da tabela e do gráfico, parece razoável supor que quanto mais desenvolvido um país é, maior a propensão a este possuir pelo menos um bilionário. Essa é a primeira conclusão parcial que a análise de dados nos levou e que servirá para ajudar a estabelecer uma hipótese válida pra responder a pergunta final. "
   ]
  },
  {
   "cell_type": "markdown",
   "metadata": {},
   "source": [
    "Faze-se o mesmo para o percentual de pobres."
   ]
  },
  {
   "cell_type": "code",
   "execution_count": 11,
   "metadata": {},
   "outputs": [
    {
     "data": {
      "text/plain": [
       "count    55.000000\n",
       "mean      1.467721\n",
       "std       4.091085\n",
       "min       0.000000\n",
       "25%       0.017800\n",
       "50%       0.128000\n",
       "75%       1.060000\n",
       "max      27.900000\n",
       "Name: Pobres, dtype: float64"
      ]
     },
     "execution_count": 11,
     "metadata": {},
     "output_type": "execute_result"
    },
    {
     "data": {
      "image/png": "[encoded data removed]",
      "text/plain": [
       "<matplotlib.figure.Figure at 0x2bb6a446470>"
      ]
     },
     "metadata": {},
     "output_type": "display_data"
    }
   ],
   "source": [
    "tabela.Pobres.plot.box()\n",
    "tabela.Pobres.describe()"
   ]
  },
  {
   "cell_type": "markdown",
   "metadata": {},
   "source": [
    "Novamente vemos duas anomalias bastante claras: Tanzânia (com aproximadamente 27,9% da população recebendo menos de 1,25 USD por dia), devido à questões antigas, como resultado de processos problemáticos em seu passado, como vários outros países do continente africano,  e Brasil, que na época estava com pouco mais de 11% de sua população vivendo em situação de pobreza. A primeira iteração, levou a pensar que essa questão se dá devido à desvalorização da moeda brasileira, que na época foi de, no ponto mais alto, aproximadamente 2,30$\\frac {BRL}{USD}$. Considerando que o salário mínimo brasileiro era de aproximadamente 12,67 BRL por dia, o que dá aproximadamente 5,50 USD por dia. Isso nos leva a uma conclusão de que no Brasil, mais de 11% da população vivia abaixo do mínimo estabelecido por lei. Porém, isso ainda não leva à uma hipotese concreta do porquê da anomalia brasileira. Uma possível hipótese está dada na tranasição economica que o Brasil passava desde o final dos anos 1990, com o plano Real, estabelecido em 1994 e as políticas sociais do governo Lula, que diminuiram a pobreza, que estava em cerca de 24,0% no início da década (in: dadospobreza), fruto da desvalorização exarcebada na moeda e na economia, rescaldo da Ditadura militar e das políticas da década de 1980 que elevaram a inflação a níveis astronômicos."
   ]
  },
  {
   "cell_type": "code",
   "execution_count": 12,
   "metadata": {},
   "outputs": [],
   "source": [
    "g = tabela[tabela.Pobres>0]"
   ]
  },
  {
   "cell_type": "code",
   "execution_count": 13,
   "metadata": {},
   "outputs": [
    {
     "data": {
      "text/html": [
       "<div>\n",
       "<style scoped>\n",
       "    .dataframe tbody tr th:only-of-type {\n",
       "        vertical-align: middle;\n",
       "    }\n",
       "\n",
       "    .dataframe tbody tr th {\n",
       "        vertical-align: top;\n",
       "    }\n",
       "\n",
       "    .dataframe thead th {\n",
       "        text-align: right;\n",
       "    }\n",
       "</style>\n",
       "<table border=\"1\" class=\"dataframe\">\n",
       "  <thead>\n",
       "    <tr style=\"text-align: right;\">\n",
       "      <th>Pobresbar</th>\n",
       "      <th>(-0.0277, 27.9]</th>\n",
       "    </tr>\n",
       "    <tr>\n",
       "      <th>IDHBAR</th>\n",
       "      <th></th>\n",
       "    </tr>\n",
       "  </thead>\n",
       "  <tbody>\n",
       "    <tr>\n",
       "      <th>(0.27, 0.338]</th>\n",
       "      <td>2</td>\n",
       "    </tr>\n",
       "    <tr>\n",
       "      <th>(0.338, 0.405]</th>\n",
       "      <td>0</td>\n",
       "    </tr>\n",
       "    <tr>\n",
       "      <th>(0.405, 0.472]</th>\n",
       "      <td>2</td>\n",
       "    </tr>\n",
       "    <tr>\n",
       "      <th>(0.472, 0.539]</th>\n",
       "      <td>3</td>\n",
       "    </tr>\n",
       "    <tr>\n",
       "      <th>(0.539, 0.606]</th>\n",
       "      <td>4</td>\n",
       "    </tr>\n",
       "    <tr>\n",
       "      <th>(0.606, 0.674]</th>\n",
       "      <td>7</td>\n",
       "    </tr>\n",
       "    <tr>\n",
       "      <th>(0.674, 0.741]</th>\n",
       "      <td>11</td>\n",
       "    </tr>\n",
       "    <tr>\n",
       "      <th>(0.741, 0.808]</th>\n",
       "      <td>9</td>\n",
       "    </tr>\n",
       "    <tr>\n",
       "      <th>(0.808, 0.875]</th>\n",
       "      <td>4</td>\n",
       "    </tr>\n",
       "    <tr>\n",
       "      <th>(0.875, 0.942]</th>\n",
       "      <td>6</td>\n",
       "    </tr>\n",
       "  </tbody>\n",
       "</table>\n",
       "</div>"
      ],
      "text/plain": [
       "Pobresbar       (-0.0277, 27.9]\n",
       "IDHBAR                         \n",
       "(0.27, 0.338]                 2\n",
       "(0.338, 0.405]                0\n",
       "(0.405, 0.472]                2\n",
       "(0.472, 0.539]                3\n",
       "(0.539, 0.606]                4\n",
       "(0.606, 0.674]                7\n",
       "(0.674, 0.741]               11\n",
       "(0.741, 0.808]                9\n",
       "(0.808, 0.875]                4\n",
       "(0.875, 0.942]                6"
      ]
     },
     "execution_count": 13,
     "metadata": {},
     "output_type": "execute_result"
    }
   ],
   "source": [
    "tabela[\"IDHBAR\"] = pd.cut(tabela['IDH'], bins=10)\n",
    "tabela['Pobresbar'] = pd.cut (g['Pobres'], bins = 1)\n",
    "cruzada1 = pd.crosstab(tabela[\"IDHBAR\"], tabela[\"Pobresbar\"])\n",
    "cruzada1"
   ]
  },
  {
   "cell_type": "code",
   "execution_count": 14,
   "metadata": {},
   "outputs": [
    {
     "data": {
      "text/plain": [
       "Text(0.5,1,'Países com percentual de pobreza')"
      ]
     },
     "execution_count": 14,
     "metadata": {},
     "output_type": "execute_result"
    },
    {
     "data": {
      "image/png": "[encoded data removed]",
      "text/plain": [
       "<matplotlib.figure.Figure at 0x2bb6a39ec88>"
      ]
     },
     "metadata": {},
     "output_type": "display_data"
    }
   ],
   "source": [
    "cruzada1.plot.bar(color = 'b')\n",
    "plt.title('Países com percentual de pobreza')"
   ]
  },
  {
   "cell_type": "markdown",
   "metadata": {},
   "source": [
    "Podemos observar nessa tabela, que o desenvolvimento de um país não se dá necessariamente pela falta de pobreza: temos pessoas vivendo com menos de 1,25 USD por dia em todas as faixas de IDH, não sendo algo exclusivo dos IDHs mais baixos. Essa é a segunda conclusão parcial."
   ]
  },
  {
   "cell_type": "markdown",
   "metadata": {},
   "source": [
    "E o que se pode afirmar sobre os países que possuem um índice de pobreza 0%?"
   ]
  },
  {
   "cell_type": "code",
   "execution_count": 15,
   "metadata": {},
   "outputs": [
    {
     "data": {
      "text/html": [
       "<div>\n",
       "<style scoped>\n",
       "    .dataframe tbody tr th:only-of-type {\n",
       "        vertical-align: middle;\n",
       "    }\n",
       "\n",
       "    .dataframe tbody tr th {\n",
       "        vertical-align: top;\n",
       "    }\n",
       "\n",
       "    .dataframe thead th {\n",
       "        text-align: right;\n",
       "    }\n",
       "</style>\n",
       "<table border=\"1\" class=\"dataframe\">\n",
       "  <thead>\n",
       "    <tr style=\"text-align: right;\">\n",
       "      <th></th>\n",
       "      <th>País</th>\n",
       "      <th>IDH</th>\n",
       "      <th>PIB</th>\n",
       "      <th>Bilionários</th>\n",
       "      <th>Pobres</th>\n",
       "      <th>IDHBAR</th>\n",
       "      <th>BilionáriosBar</th>\n",
       "      <th>Pobresbar</th>\n",
       "    </tr>\n",
       "  </thead>\n",
       "  <tbody>\n",
       "    <tr>\n",
       "      <th>20</th>\n",
       "      <td>Belarus</td>\n",
       "      <td>0.738</td>\n",
       "      <td>5030.0</td>\n",
       "      <td>0.000000</td>\n",
       "      <td>0.0</td>\n",
       "      <td>(0.674, 0.741]</td>\n",
       "      <td>NaN</td>\n",
       "      <td>NaN</td>\n",
       "    </tr>\n",
       "    <tr>\n",
       "      <th>80</th>\n",
       "      <td>Finland</td>\n",
       "      <td>0.881</td>\n",
       "      <td>49200.0</td>\n",
       "      <td>0.000000</td>\n",
       "      <td>0.0</td>\n",
       "      <td>(0.875, 0.942]</td>\n",
       "      <td>NaN</td>\n",
       "      <td>NaN</td>\n",
       "    </tr>\n",
       "    <tr>\n",
       "      <th>87</th>\n",
       "      <td>Germany</td>\n",
       "      <td>0.901</td>\n",
       "      <td>41800.0</td>\n",
       "      <td>0.667468</td>\n",
       "      <td>0.0</td>\n",
       "      <td>(0.875, 0.942]</td>\n",
       "      <td>(-0.0217, 30.608]</td>\n",
       "      <td>NaN</td>\n",
       "    </tr>\n",
       "    <tr>\n",
       "      <th>110</th>\n",
       "      <td>Ireland</td>\n",
       "      <td>0.909</td>\n",
       "      <td>54100.0</td>\n",
       "      <td>0.973452</td>\n",
       "      <td>0.0</td>\n",
       "      <td>(0.875, 0.942]</td>\n",
       "      <td>(-0.0217, 30.608]</td>\n",
       "      <td>NaN</td>\n",
       "    </tr>\n",
       "    <tr>\n",
       "      <th>142</th>\n",
       "      <td>Malaysia</td>\n",
       "      <td>0.746</td>\n",
       "      <td>8890.0</td>\n",
       "      <td>0.362592</td>\n",
       "      <td>0.0</td>\n",
       "      <td>(0.741, 0.808]</td>\n",
       "      <td>(-0.0217, 30.608]</td>\n",
       "      <td>NaN</td>\n",
       "    </tr>\n",
       "    <tr>\n",
       "      <th>193</th>\n",
       "      <td>Romania</td>\n",
       "      <td>0.767</td>\n",
       "      <td>8050.0</td>\n",
       "      <td>0.044891</td>\n",
       "      <td>0.0</td>\n",
       "      <td>(0.741, 0.808]</td>\n",
       "      <td>(-0.0217, 30.608]</td>\n",
       "      <td>NaN</td>\n",
       "    </tr>\n",
       "  </tbody>\n",
       "</table>\n",
       "</div>"
      ],
      "text/plain": [
       "         País    IDH      PIB  Bilionários  Pobres          IDHBAR  \\\n",
       "20    Belarus  0.738   5030.0     0.000000     0.0  (0.674, 0.741]   \n",
       "80    Finland  0.881  49200.0     0.000000     0.0  (0.875, 0.942]   \n",
       "87    Germany  0.901  41800.0     0.667468     0.0  (0.875, 0.942]   \n",
       "110   Ireland  0.909  54100.0     0.973452     0.0  (0.875, 0.942]   \n",
       "142  Malaysia  0.746   8890.0     0.362592     0.0  (0.741, 0.808]   \n",
       "193   Romania  0.767   8050.0     0.044891     0.0  (0.741, 0.808]   \n",
       "\n",
       "        BilionáriosBar Pobresbar  \n",
       "20                 NaN       NaN  \n",
       "80                 NaN       NaN  \n",
       "87   (-0.0217, 30.608]       NaN  \n",
       "110  (-0.0217, 30.608]       NaN  \n",
       "142  (-0.0217, 30.608]       NaN  \n",
       "193  (-0.0217, 30.608]       NaN  "
      ]
     },
     "execution_count": 15,
     "metadata": {},
     "output_type": "execute_result"
    }
   ],
   "source": [
    "m = tabela[tabela.Pobres==0]\n",
    "m"
   ]
  },
  {
   "cell_type": "markdown",
   "metadata": {},
   "source": [
    "Como pode ser bem observado, apenas 6 países dos quais possuem dados sobre o índice de pobreza (pouco mais de 10%), possuem esse dado zerado. Dentre esses, podemos analizar que 50% está alocado na faixa mais  alta de IDH, tendo o resto IDH ainda considerado Alto. "
   ]
  },
  {
   "cell_type": "markdown",
   "metadata": {},
   "source": [
    "Agora, retiremos as colunas criadas para as diferentes faixas que foram usadas anteriormente"
   ]
  },
  {
   "cell_type": "code",
   "execution_count": 16,
   "metadata": {},
   "outputs": [],
   "source": [
    "tabela = tabela.drop('IDHBAR', axis=1)\n",
    "tabela = tabela.drop('BilionáriosBar', axis = 1)\n",
    "tabela = tabela.drop('Pobresbar', axis = 1)"
   ]
  },
  {
   "cell_type": "markdown",
   "metadata": {},
   "source": [
    "E coloquemos a coluna que indicará o índice de Gini"
   ]
  },
  {
   "cell_type": "code",
   "execution_count": 17,
   "metadata": {},
   "outputs": [
    {
     "data": {
      "text/html": [
       "<div>\n",
       "<style scoped>\n",
       "    .dataframe tbody tr th:only-of-type {\n",
       "        vertical-align: middle;\n",
       "    }\n",
       "\n",
       "    .dataframe tbody tr th {\n",
       "        vertical-align: top;\n",
       "    }\n",
       "\n",
       "    .dataframe thead th {\n",
       "        text-align: right;\n",
       "    }\n",
       "</style>\n",
       "<table border=\"1\" class=\"dataframe\">\n",
       "  <thead>\n",
       "    <tr style=\"text-align: right;\">\n",
       "      <th></th>\n",
       "      <th>País</th>\n",
       "      <th>IDH</th>\n",
       "      <th>PIB</th>\n",
       "      <th>Bilionários</th>\n",
       "      <th>Pobres</th>\n",
       "      <th>2007</th>\n",
       "    </tr>\n",
       "  </thead>\n",
       "  <tbody>\n",
       "    <tr>\n",
       "      <th>10</th>\n",
       "      <td>Argentina</td>\n",
       "      <td>0.780</td>\n",
       "      <td>9830.0</td>\n",
       "      <td>0.024813</td>\n",
       "      <td>1.1800</td>\n",
       "      <td>29.2</td>\n",
       "    </tr>\n",
       "    <tr>\n",
       "      <th>32</th>\n",
       "      <td>Bulgaria</td>\n",
       "      <td>0.758</td>\n",
       "      <td>6630.0</td>\n",
       "      <td>0.000000</td>\n",
       "      <td>0.0196</td>\n",
       "      <td>49.3</td>\n",
       "    </tr>\n",
       "    <tr>\n",
       "      <th>35</th>\n",
       "      <td>Cambodia</td>\n",
       "      <td>0.508</td>\n",
       "      <td>726.0</td>\n",
       "      <td>0.000000</td>\n",
       "      <td>4.2400</td>\n",
       "      <td>31.1</td>\n",
       "    </tr>\n",
       "    <tr>\n",
       "      <th>36</th>\n",
       "      <td>Cameroon</td>\n",
       "      <td>0.459</td>\n",
       "      <td>1300.0</td>\n",
       "      <td>0.000000</td>\n",
       "      <td>5.2700</td>\n",
       "      <td>26.0</td>\n",
       "    </tr>\n",
       "    <tr>\n",
       "      <th>37</th>\n",
       "      <td>Canada</td>\n",
       "      <td>0.900</td>\n",
       "      <td>48600.0</td>\n",
       "      <td>0.688826</td>\n",
       "      <td>0.1120</td>\n",
       "      <td>26.2</td>\n",
       "    </tr>\n",
       "    <tr>\n",
       "      <th>68</th>\n",
       "      <td>Ecuador</td>\n",
       "      <td>0.702</td>\n",
       "      <td>4420.0</td>\n",
       "      <td>0.000000</td>\n",
       "      <td>0.9900</td>\n",
       "      <td>32.9</td>\n",
       "    </tr>\n",
       "    <tr>\n",
       "      <th>80</th>\n",
       "      <td>Finland</td>\n",
       "      <td>0.881</td>\n",
       "      <td>49200.0</td>\n",
       "      <td>0.000000</td>\n",
       "      <td>0.0000</td>\n",
       "      <td>36.5</td>\n",
       "    </tr>\n",
       "    <tr>\n",
       "      <th>86</th>\n",
       "      <td>Georgia</td>\n",
       "      <td>0.724</td>\n",
       "      <td>2720.0</td>\n",
       "      <td>0.000000</td>\n",
       "      <td>0.6470</td>\n",
       "      <td>46.1</td>\n",
       "    </tr>\n",
       "    <tr>\n",
       "      <th>102</th>\n",
       "      <td>Honduras</td>\n",
       "      <td>0.613</td>\n",
       "      <td>1950.0</td>\n",
       "      <td>0.000000</td>\n",
       "      <td>1.1300</td>\n",
       "      <td>29.6</td>\n",
       "    </tr>\n",
       "    <tr>\n",
       "      <th>109</th>\n",
       "      <td>Iraq</td>\n",
       "      <td>0.558</td>\n",
       "      <td>4100.0</td>\n",
       "      <td>0.000000</td>\n",
       "      <td>0.9690</td>\n",
       "      <td>52.8</td>\n",
       "    </tr>\n",
       "    <tr>\n",
       "      <th>112</th>\n",
       "      <td>Israel</td>\n",
       "      <td>0.882</td>\n",
       "      <td>29600.0</td>\n",
       "      <td>1.400412</td>\n",
       "      <td>0.0237</td>\n",
       "      <td>50.4</td>\n",
       "    </tr>\n",
       "    <tr>\n",
       "      <th>142</th>\n",
       "      <td>Malaysia</td>\n",
       "      <td>0.746</td>\n",
       "      <td>8890.0</td>\n",
       "      <td>0.362592</td>\n",
       "      <td>0.0000</td>\n",
       "      <td>39.8</td>\n",
       "    </tr>\n",
       "    <tr>\n",
       "      <th>153</th>\n",
       "      <td>Moldova</td>\n",
       "      <td>0.638</td>\n",
       "      <td>1500.0</td>\n",
       "      <td>0.000000</td>\n",
       "      <td>0.0361</td>\n",
       "      <td>35.7</td>\n",
       "    </tr>\n",
       "  </tbody>\n",
       "</table>\n",
       "</div>"
      ],
      "text/plain": [
       "          País    IDH      PIB  Bilionários  Pobres  2007\n",
       "10   Argentina  0.780   9830.0     0.024813  1.1800  29.2\n",
       "32    Bulgaria  0.758   6630.0     0.000000  0.0196  49.3\n",
       "35    Cambodia  0.508    726.0     0.000000  4.2400  31.1\n",
       "36    Cameroon  0.459   1300.0     0.000000  5.2700  26.0\n",
       "37      Canada  0.900  48600.0     0.688826  0.1120  26.2\n",
       "68     Ecuador  0.702   4420.0     0.000000  0.9900  32.9\n",
       "80     Finland  0.881  49200.0     0.000000  0.0000  36.5\n",
       "86     Georgia  0.724   2720.0     0.000000  0.6470  46.1\n",
       "102   Honduras  0.613   1950.0     0.000000  1.1300  29.6\n",
       "109       Iraq  0.558   4100.0     0.000000  0.9690  52.8\n",
       "112     Israel  0.882  29600.0     1.400412  0.0237  50.4\n",
       "142   Malaysia  0.746   8890.0     0.362592  0.0000  39.8\n",
       "153    Moldova  0.638   1500.0     0.000000  0.0361  35.7"
      ]
     },
     "execution_count": 17,
     "metadata": {},
     "output_type": "execute_result"
    }
   ],
   "source": [
    "tabela = tabela.join(gini, how =\"inner\", rsuffix='2007 gini')\n",
    "tabela.dropna()"
   ]
  },
  {
   "cell_type": "markdown",
   "metadata": {},
   "source": [
    "Mudando o nome de suas colunas para algo mais intuitivo:"
   ]
  },
  {
   "cell_type": "code",
   "execution_count": 18,
   "metadata": {},
   "outputs": [],
   "source": [
    "tabela.columns = ['País', 'IDH', 'PIB', 'Bilionários', 'Pobres', 'Gini']"
   ]
  },
  {
   "cell_type": "markdown",
   "metadata": {},
   "source": [
    "A seguir, vemos a possível existência de uma correlação entre o índice de Gini e o IDH, o que nos levaria a um argumento forte para defender a ideia que país rico não é de fato um paíse sem pobreza, porém um país com/sem desigualdades."
   ]
  },
  {
   "cell_type": "code",
   "execution_count": 19,
   "metadata": {},
   "outputs": [
    {
     "data": {
      "text/plain": [
       "Text(0.5,1,'Relação IDH x índice Gini')"
      ]
     },
     "execution_count": 19,
     "metadata": {},
     "output_type": "execute_result"
    },
    {
     "data": {
      "image/png": "[encoded data removed]",
      "text/plain": [
       "<matplotlib.figure.Figure at 0x2bb691b8da0>"
      ]
     },
     "metadata": {},
     "output_type": "display_data"
    }
   ],
   "source": [
    "tabela.plot.scatter(x = \"IDH\", y = \"Gini\", color = 'b')\n",
    "plt.title ('Relação IDH x índice Gini')"
   ]
  },
  {
   "cell_type": "markdown",
   "metadata": {},
   "source": [
    "Vemos claramente no gráfico acima que não existe nenhuma correlação entre o IDH e o índice de desigualdade. Mas e quanto à possível correlação entre Gini e o PIB *per capta*?"
   ]
  },
  {
   "cell_type": "code",
   "execution_count": 20,
   "metadata": {},
   "outputs": [
    {
     "data": {
      "text/plain": [
       "Text(0.5,1,'Relação PIB x índice Gini')"
      ]
     },
     "execution_count": 20,
     "metadata": {},
     "output_type": "execute_result"
    },
    {
     "data": {
      "image/png": "[encoded data removed]",
      "text/plain": [
       "<matplotlib.figure.Figure at 0x2bb6920b438>"
      ]
     },
     "metadata": {},
     "output_type": "display_data"
    }
   ],
   "source": [
    "tabela.plot.scatter(x = \"PIB\", y = \"Gini\", loglog = True, color = 'b')\n",
    "plt.title ('Relação PIB x índice Gini')"
   ]
  },
  {
   "cell_type": "markdown",
   "metadata": {},
   "source": [
    "Essa correlação também é quase inexistênte, o que tira a conclusão possível de que um país rico é um país com igualdade social. \n",
    "Vamos agora levar em conta o índice S, dado por: $S = \\frac{pibpercapta}{Gini}$, que mostra um pouco o quanto a desigualdade pode afetar no PIB *per capta* de um país e na sua relação com o IDH. Por exemplo: um país com Pib *per capta* 50000 e um índice Gini 50 (lembrando que quanto **maior** é o índice Gini, **mais** desigual o país é), terá o mesmo índice S que um país com o Pib *per capta* 10000 e índice Gini 10."
   ]
  },
  {
   "cell_type": "code",
   "execution_count": 21,
   "metadata": {},
   "outputs": [],
   "source": [
    "S = tabela.PIB/tabela.Gini.dropna()\n",
    "tabela ['S'] = S"
   ]
  },
  {
   "cell_type": "markdown",
   "metadata": {},
   "source": [
    "Uma vez criado o índice S, vamos ordenar os países por esse índice:"
   ]
  },
  {
   "cell_type": "code",
   "execution_count": 22,
   "metadata": {},
   "outputs": [
    {
     "data": {
      "text/html": [
       "<div>\n",
       "<style scoped>\n",
       "    .dataframe tbody tr th:only-of-type {\n",
       "        vertical-align: middle;\n",
       "    }\n",
       "\n",
       "    .dataframe tbody tr th {\n",
       "        vertical-align: top;\n",
       "    }\n",
       "\n",
       "    .dataframe thead th {\n",
       "        text-align: right;\n",
       "    }\n",
       "</style>\n",
       "<table border=\"1\" class=\"dataframe\">\n",
       "  <thead>\n",
       "    <tr style=\"text-align: right;\">\n",
       "      <th></th>\n",
       "      <th>País</th>\n",
       "      <th>IDH</th>\n",
       "      <th>S</th>\n",
       "    </tr>\n",
       "  </thead>\n",
       "  <tbody>\n",
       "    <tr>\n",
       "      <th>50</th>\n",
       "      <td>Congo, Dem. Rep.</td>\n",
       "      <td>0.271</td>\n",
       "      <td>7.832898</td>\n",
       "    </tr>\n",
       "    <tr>\n",
       "      <th>75</th>\n",
       "      <td>Ethiopia</td>\n",
       "      <td>0.337</td>\n",
       "      <td>8.023599</td>\n",
       "    </tr>\n",
       "    <tr>\n",
       "      <th>141</th>\n",
       "      <td>Malawi</td>\n",
       "      <td>0.367</td>\n",
       "      <td>10.000000</td>\n",
       "    </tr>\n",
       "    <tr>\n",
       "      <th>140</th>\n",
       "      <td>Madagascar</td>\n",
       "      <td>0.476</td>\n",
       "      <td>13.540373</td>\n",
       "    </tr>\n",
       "    <tr>\n",
       "      <th>23</th>\n",
       "      <td>Benin</td>\n",
       "      <td>0.414</td>\n",
       "      <td>15.932203</td>\n",
       "    </tr>\n",
       "    <tr>\n",
       "      <th>72</th>\n",
       "      <td>Eritrea</td>\n",
       "      <td>NaN</td>\n",
       "      <td>17.674419</td>\n",
       "    </tr>\n",
       "    <tr>\n",
       "      <th>42</th>\n",
       "      <td>Chad</td>\n",
       "      <td>0.313</td>\n",
       "      <td>17.942478</td>\n",
       "    </tr>\n",
       "    <tr>\n",
       "      <th>18</th>\n",
       "      <td>Bangladesh</td>\n",
       "      <td>0.478</td>\n",
       "      <td>18.448753</td>\n",
       "    </tr>\n",
       "    <tr>\n",
       "      <th>35</th>\n",
       "      <td>Cambodia</td>\n",
       "      <td>0.508</td>\n",
       "      <td>23.344051</td>\n",
       "    </tr>\n",
       "    <tr>\n",
       "      <th>55</th>\n",
       "      <td>Cote d'Ivoire</td>\n",
       "      <td>0.388</td>\n",
       "      <td>30.710660</td>\n",
       "    </tr>\n",
       "    <tr>\n",
       "      <th>148</th>\n",
       "      <td>Mauritania</td>\n",
       "      <td>0.442</td>\n",
       "      <td>32.552083</td>\n",
       "    </tr>\n",
       "    <tr>\n",
       "      <th>126</th>\n",
       "      <td>Kyrgyz Republic</td>\n",
       "      <td>0.605</td>\n",
       "      <td>33.606557</td>\n",
       "    </tr>\n",
       "    <tr>\n",
       "      <th>106</th>\n",
       "      <td>India</td>\n",
       "      <td>0.523</td>\n",
       "      <td>41.697417</td>\n",
       "    </tr>\n",
       "    <tr>\n",
       "      <th>153</th>\n",
       "      <td>Moldova</td>\n",
       "      <td>0.638</td>\n",
       "      <td>42.016807</td>\n",
       "    </tr>\n",
       "    <tr>\n",
       "      <th>36</th>\n",
       "      <td>Cameroon</td>\n",
       "      <td>0.459</td>\n",
       "      <td>50.000000</td>\n",
       "    </tr>\n",
       "    <tr>\n",
       "      <th>155</th>\n",
       "      <td>Mongolia</td>\n",
       "      <td>0.631</td>\n",
       "      <td>52.370690</td>\n",
       "    </tr>\n",
       "    <tr>\n",
       "      <th>86</th>\n",
       "      <td>Georgia</td>\n",
       "      <td>0.724</td>\n",
       "      <td>59.002169</td>\n",
       "    </tr>\n",
       "    <tr>\n",
       "      <th>102</th>\n",
       "      <td>Honduras</td>\n",
       "      <td>0.613</td>\n",
       "      <td>65.878378</td>\n",
       "    </tr>\n",
       "    <tr>\n",
       "      <th>109</th>\n",
       "      <td>Iraq</td>\n",
       "      <td>0.558</td>\n",
       "      <td>77.651515</td>\n",
       "    </tr>\n",
       "    <tr>\n",
       "      <th>51</th>\n",
       "      <td>Congo, Rep.</td>\n",
       "      <td>0.512</td>\n",
       "      <td>78.274760</td>\n",
       "    </tr>\n",
       "    <tr>\n",
       "      <th>95</th>\n",
       "      <td>Guatemala</td>\n",
       "      <td>0.565</td>\n",
       "      <td>79.050279</td>\n",
       "    </tr>\n",
       "    <tr>\n",
       "      <th>107</th>\n",
       "      <td>Indonesia</td>\n",
       "      <td>0.591</td>\n",
       "      <td>87.025316</td>\n",
       "    </tr>\n",
       "    <tr>\n",
       "      <th>117</th>\n",
       "      <td>Jordan</td>\n",
       "      <td>0.685</td>\n",
       "      <td>87.234043</td>\n",
       "    </tr>\n",
       "    <tr>\n",
       "      <th>152</th>\n",
       "      <td>Micronesia, Fed. Sts.</td>\n",
       "      <td>0.637</td>\n",
       "      <td>103.703704</td>\n",
       "    </tr>\n",
       "    <tr>\n",
       "      <th>22</th>\n",
       "      <td>Belize</td>\n",
       "      <td>0.692</td>\n",
       "      <td>128.994083</td>\n",
       "    </tr>\n",
       "    <tr>\n",
       "      <th>68</th>\n",
       "      <td>Ecuador</td>\n",
       "      <td>0.702</td>\n",
       "      <td>134.346505</td>\n",
       "    </tr>\n",
       "    <tr>\n",
       "      <th>32</th>\n",
       "      <td>Bulgaria</td>\n",
       "      <td>0.758</td>\n",
       "      <td>134.482759</td>\n",
       "    </tr>\n",
       "    <tr>\n",
       "      <th>4</th>\n",
       "      <td>Algeria</td>\n",
       "      <td>0.680</td>\n",
       "      <td>139.743590</td>\n",
       "    </tr>\n",
       "    <tr>\n",
       "      <th>15</th>\n",
       "      <td>Azerbaijan</td>\n",
       "      <td>NaN</td>\n",
       "      <td>146.525680</td>\n",
       "    </tr>\n",
       "    <tr>\n",
       "      <th>114</th>\n",
       "      <td>Jamaica</td>\n",
       "      <td>0.717</td>\n",
       "      <td>151.641791</td>\n",
       "    </tr>\n",
       "    <tr>\n",
       "      <th>66</th>\n",
       "      <td>Dominican Republic</td>\n",
       "      <td>0.672</td>\n",
       "      <td>157.680251</td>\n",
       "    </tr>\n",
       "    <tr>\n",
       "      <th>108</th>\n",
       "      <td>Iran</td>\n",
       "      <td>0.694</td>\n",
       "      <td>177.247191</td>\n",
       "    </tr>\n",
       "    <tr>\n",
       "      <th>131</th>\n",
       "      <td>Lebanon</td>\n",
       "      <td>0.721</td>\n",
       "      <td>209.970674</td>\n",
       "    </tr>\n",
       "    <tr>\n",
       "      <th>142</th>\n",
       "      <td>Malaysia</td>\n",
       "      <td>0.746</td>\n",
       "      <td>223.366834</td>\n",
       "    </tr>\n",
       "    <tr>\n",
       "      <th>143</th>\n",
       "      <td>Maldives</td>\n",
       "      <td>0.640</td>\n",
       "      <td>254.316547</td>\n",
       "    </tr>\n",
       "    <tr>\n",
       "      <th>10</th>\n",
       "      <td>Argentina</td>\n",
       "      <td>0.780</td>\n",
       "      <td>336.643836</td>\n",
       "    </tr>\n",
       "    <tr>\n",
       "      <th>104</th>\n",
       "      <td>Hungary</td>\n",
       "      <td>0.809</td>\n",
       "      <td>367.292225</td>\n",
       "    </tr>\n",
       "    <tr>\n",
       "      <th>17</th>\n",
       "      <td>Bahrain</td>\n",
       "      <td>0.804</td>\n",
       "      <td>397.085610</td>\n",
       "    </tr>\n",
       "    <tr>\n",
       "      <th>9</th>\n",
       "      <td>Antigua and Barbuda</td>\n",
       "      <td>NaN</td>\n",
       "      <td>523.648649</td>\n",
       "    </tr>\n",
       "    <tr>\n",
       "      <th>112</th>\n",
       "      <td>Israel</td>\n",
       "      <td>0.882</td>\n",
       "      <td>587.301587</td>\n",
       "    </tr>\n",
       "    <tr>\n",
       "      <th>60</th>\n",
       "      <td>Czech Republic</td>\n",
       "      <td>0.861</td>\n",
       "      <td>724.014337</td>\n",
       "    </tr>\n",
       "    <tr>\n",
       "      <th>14</th>\n",
       "      <td>Austria</td>\n",
       "      <td>0.870</td>\n",
       "      <td>869.724771</td>\n",
       "    </tr>\n",
       "    <tr>\n",
       "      <th>21</th>\n",
       "      <td>Belgium</td>\n",
       "      <td>0.880</td>\n",
       "      <td>1051.401869</td>\n",
       "    </tr>\n",
       "    <tr>\n",
       "      <th>81</th>\n",
       "      <td>France</td>\n",
       "      <td>0.877</td>\n",
       "      <td>1198.275862</td>\n",
       "    </tr>\n",
       "    <tr>\n",
       "      <th>115</th>\n",
       "      <td>Japan</td>\n",
       "      <td>0.894</td>\n",
       "      <td>1245.231608</td>\n",
       "    </tr>\n",
       "    <tr>\n",
       "      <th>13</th>\n",
       "      <td>Australia</td>\n",
       "      <td>0.922</td>\n",
       "      <td>1338.582677</td>\n",
       "    </tr>\n",
       "    <tr>\n",
       "      <th>80</th>\n",
       "      <td>Finland</td>\n",
       "      <td>0.881</td>\n",
       "      <td>1347.945205</td>\n",
       "    </tr>\n",
       "    <tr>\n",
       "      <th>6</th>\n",
       "      <td>Andorra</td>\n",
       "      <td>NaN</td>\n",
       "      <td>1591.503268</td>\n",
       "    </tr>\n",
       "    <tr>\n",
       "      <th>37</th>\n",
       "      <td>Canada</td>\n",
       "      <td>0.900</td>\n",
       "      <td>1854.961832</td>\n",
       "    </tr>\n",
       "    <tr>\n",
       "      <th>125</th>\n",
       "      <td>Kuwait</td>\n",
       "      <td>0.756</td>\n",
       "      <td>2008.097166</td>\n",
       "    </tr>\n",
       "    <tr>\n",
       "      <th>137</th>\n",
       "      <td>Luxembourg</td>\n",
       "      <td>0.868</td>\n",
       "      <td>4242.424242</td>\n",
       "    </tr>\n",
       "  </tbody>\n",
       "</table>\n",
       "</div>"
      ],
      "text/plain": [
       "                      País    IDH            S\n",
       "50        Congo, Dem. Rep.  0.271     7.832898\n",
       "75                Ethiopia  0.337     8.023599\n",
       "141                 Malawi  0.367    10.000000\n",
       "140             Madagascar  0.476    13.540373\n",
       "23                   Benin  0.414    15.932203\n",
       "72                 Eritrea    NaN    17.674419\n",
       "42                    Chad  0.313    17.942478\n",
       "18              Bangladesh  0.478    18.448753\n",
       "35                Cambodia  0.508    23.344051\n",
       "55           Cote d'Ivoire  0.388    30.710660\n",
       "148             Mauritania  0.442    32.552083\n",
       "126        Kyrgyz Republic  0.605    33.606557\n",
       "106                  India  0.523    41.697417\n",
       "153                Moldova  0.638    42.016807\n",
       "36                Cameroon  0.459    50.000000\n",
       "155               Mongolia  0.631    52.370690\n",
       "86                 Georgia  0.724    59.002169\n",
       "102               Honduras  0.613    65.878378\n",
       "109                   Iraq  0.558    77.651515\n",
       "51             Congo, Rep.  0.512    78.274760\n",
       "95               Guatemala  0.565    79.050279\n",
       "107              Indonesia  0.591    87.025316\n",
       "117                 Jordan  0.685    87.234043\n",
       "152  Micronesia, Fed. Sts.  0.637   103.703704\n",
       "22                  Belize  0.692   128.994083\n",
       "68                 Ecuador  0.702   134.346505\n",
       "32                Bulgaria  0.758   134.482759\n",
       "4                  Algeria  0.680   139.743590\n",
       "15              Azerbaijan    NaN   146.525680\n",
       "114                Jamaica  0.717   151.641791\n",
       "66      Dominican Republic  0.672   157.680251\n",
       "108                   Iran  0.694   177.247191\n",
       "131                Lebanon  0.721   209.970674\n",
       "142               Malaysia  0.746   223.366834\n",
       "143               Maldives  0.640   254.316547\n",
       "10               Argentina  0.780   336.643836\n",
       "104                Hungary  0.809   367.292225\n",
       "17                 Bahrain  0.804   397.085610\n",
       "9      Antigua and Barbuda    NaN   523.648649\n",
       "112                 Israel  0.882   587.301587\n",
       "60          Czech Republic  0.861   724.014337\n",
       "14                 Austria  0.870   869.724771\n",
       "21                 Belgium  0.880  1051.401869\n",
       "81                  France  0.877  1198.275862\n",
       "115                  Japan  0.894  1245.231608\n",
       "13               Australia  0.922  1338.582677\n",
       "80                 Finland  0.881  1347.945205\n",
       "6                  Andorra    NaN  1591.503268\n",
       "37                  Canada  0.900  1854.961832\n",
       "125                 Kuwait  0.756  2008.097166\n",
       "137             Luxembourg  0.868  4242.424242"
      ]
     },
     "execution_count": 22,
     "metadata": {},
     "output_type": "execute_result"
    }
   ],
   "source": [
    "tabela.loc[:, [\"País\", \"IDH\", \"S\"]].sort_values(by = 'S').head(51)"
   ]
  },
  {
   "cell_type": "code",
   "execution_count": 23,
   "metadata": {},
   "outputs": [
    {
     "data": {
      "text/plain": [
       "Text(0.5,1,'Relação IDH x índice S')"
      ]
     },
     "execution_count": 23,
     "metadata": {},
     "output_type": "execute_result"
    },
    {
     "data": {
      "image/png": "[encoded data removed]",
      "text/plain": [
       "<matplotlib.figure.Figure at 0x2bb6a909358>"
      ]
     },
     "metadata": {},
     "output_type": "display_data"
    }
   ],
   "source": [
    "tabela.plot.scatter(x = \"IDH\", y = \"S\", color = 'r')\n",
    "plt.title ('Relação IDH x índice S')"
   ]
  },
  {
   "cell_type": "markdown",
   "metadata": {},
   "source": [
    "Podemos ver pelo gráfico que o índice S tem correlação com o IDH, de modo que quanto maior é o IDH maior é esse índice."
   ]
  },
  {
   "cell_type": "markdown",
   "metadata": {},
   "source": [
    "Ordenemos um resumo das conclusões parciais:"
   ]
  },
  {
   "cell_type": "markdown",
   "metadata": {},
   "source": [
    "*Conclusão parcial 1:* Quanto mais desenvolvido um país é, maior a propensão a ter bilionários.\n",
    "\n"
   ]
  },
  {
   "cell_type": "markdown",
   "metadata": {},
   "source": [
    "*Conclusão parcial 2:* O desenvolvimento de um país não está atrelado à falta de pobreza."
   ]
  },
  {
   "cell_type": "markdown",
   "metadata": {},
   "source": [
    "*Conclusão parcial 3:* Não há correlação entre o IDH/PIB *per capta* de um país e seu índice de desigualdade.\n"
   ]
  },
  {
   "cell_type": "markdown",
   "metadata": {},
   "source": [
    "*Coclusão parcial 4:* Há correlação aparentemente exponencial entre o índice S e o IDH."
   ]
  },
  {
   "cell_type": "markdown",
   "metadata": {},
   "source": [
    "Levando em conta essas 4 conclusões parciais, pode ser analisada uma conclusão final: um país desenvolvido não é necessariamente um país sem pobreza, muito menos sem desigualdades. Pode-se dizer  que Um país rico tem propensão a ficar mais desenvolvido, uma vez que essa relação é direta: Embora não haja uma relação direta entre PIB e desigualdade, a forma com que a desigualdade afeta o PIB é crucial: nos países mais desenvolvidos, mesmo com uma desigualdade alta, há a tendência que a relação $\\frac{Pib per capta}{desigualdade}$ é maior que nos países em desenvolvimento. Com isso, parece razoável concluir que as pessoas nesses países, tendo uma renda maior, mesmo que não completamente igualitária, estimulam mais a roda da economia, tornando possível a relação com o desenvolvimento, uma vez que a roda da economia gira: mais renda gera mais consumo, que gera mais fundos e impostos, o que gera mais emprego e conseguentemente um PIB per capta maior, influenciando-o."
   ]
  },
  {
   "cell_type": "markdown",
   "metadata": {},
   "source": [
    "O número de países com bilionários e o número de países com índice de pobreza $>0$ nos mostram essa relação: países mais ricos tendem a concentrar mais bilionários, porém não necessariamente seus índices de pobreza sejam menores: isso comprova a afirmação acima, uma vez que o IDH é calculado pegando como base somente a renda, não importando de quem é essa renda. Pode-se dizer, desse modo, que a questão de renda do IDH é desigual, uma vez que se levarmos em conta a maioria dos países desenvolvidos, quais possuem bilionários, a renda média é bastante afetada por estes, elevando assim, o critério renda no IDH, e com uma maior participação no PIB, visto que é muito provável que os bilionários consumam muito mais, elevando o PIB e consequentemente, o PIB *per capta*. \n"
   ]
  },
  {
   "cell_type": "markdown",
   "metadata": {},
   "source": [
    "Isso leva a uma questão reflexiva, baseada no fato de que se um país pode ser bem desenvolvido mesmo com uma tremenda desigualdade, tendo um número alto de Bilionários em ppm e também um grande número de pobres, esse desenvolvimento está beneficiando a totalidade da população?"
   ]
  }
 ],
 "metadata": {
  "kernelspec": {
   "display_name": "Python 3",
   "language": "python",
   "name": "python3"
  },
  "language_info": {
   "codemirror_mode": {
    "name": "ipython",
    "version": 3
   },
   "file_extension": ".py",
   "mimetype": "text/x-python",
   "name": "python",
   "nbconvert_exporter": "python",
   "pygments_lexer": "ipython3",
   "version": "3.6.4"
  }
 },
 "nbformat": 4,
 "nbformat_minor": 2
}
